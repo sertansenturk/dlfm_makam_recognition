{
 "cells": [
  {
   "cell_type": "markdown",
   "metadata": {},
   "source": [
    "# 00-download_dataset_audio\n",
    "\n",
    "Explanation XX"
   ]
  },
  {
   "cell_type": "code",
   "execution_count": 1,
   "metadata": {},
   "outputs": [],
   "source": [
    "import configparser\n",
    "import importlib\n",
    "import logging\n",
    "import os\n",
    "from pathlib import Path\n",
    "\n",
    "import mlflow\n",
    "import numpy as np\n",
    "import pandas as pd\n",
    "\n",
    "from compmusic import dunya\n",
    "from tqdm.notebook import tqdm"
   ]
  },
  {
   "cell_type": "markdown",
   "metadata": {},
   "source": [
    "## Init logger"
   ]
  },
  {
   "cell_type": "code",
   "execution_count": 2,
   "metadata": {},
   "outputs": [
    {
     "name": "stderr",
     "output_type": "stream",
     "text": [
      "INFO:__main__:Logger initiated...\n"
     ]
    }
   ],
   "source": [
    "importlib.reload(logging)  # fix jupyter logging: https://stackoverflow.com/a/21475297\n",
    "logging.basicConfig(level=logging.INFO)\n",
    "\n",
    "# create logger\n",
    "logger = logging.getLogger(__name__)\n",
    "logger.setLevel(logging.INFO)\n",
    "\n",
    "logger.info(\"Logger initiated...\")"
   ]
  },
  {
   "cell_type": "markdown",
   "metadata": {},
   "source": [
    "## Read relevant parts of the configuration"
   ]
  },
  {
   "cell_type": "code",
   "execution_count": 3,
   "metadata": {},
   "outputs": [
    {
     "name": "stderr",
     "output_type": "stream",
     "text": [
      "INFO:__main__:Reading configuration from ['../config/config.ini']\n"
     ]
    }
   ],
   "source": [
    "config_dir = \"../config\"\n",
    "\n",
    "config = configparser.ConfigParser()\n",
    "config_file = config.read(os.path.join(config_dir, 'config.ini'))\n",
    "logger.info(f\"Reading configuration from {config_file}\")\n",
    "\n",
    "annotation_github_file = config[\"dataset\"][\"annotation_file\"]\n",
    "secrets_file = os.path.join(config_dir, config[\"secrets\"][\"file\"])\n",
    "staging_dir = os.path.join(\"../\", config[\"preprocessing\"][\"staging_dir\"])"
   ]
  },
  {
   "cell_type": "markdown",
   "metadata": {},
   "source": [
    "## Read secrets; never commit these to the repo!!!\n"
   ]
  },
  {
   "cell_type": "code",
   "execution_count": 4,
   "metadata": {},
   "outputs": [
    {
     "name": "stderr",
     "output_type": "stream",
     "text": [
      "INFO:__main__:Reading secrets from ['../config/./secrets.ini']\n"
     ]
    }
   ],
   "source": [
    "if not os.path.exists(secrets_file):\n",
    "    raise FileNotFoundError(f\"{secrets_file} does not exist\")\n",
    "\n",
    "secrets_file = config.read(secrets_file)\n",
    "logger.info(f\"Reading secrets from {secrets_file}\")\n",
    "\n",
    "dunya_token = config[\"tokens\"][\"dunya\"]"
   ]
  },
  {
   "cell_type": "markdown",
   "metadata": {},
   "source": [
    "## Read annotations from `otmm_makam_recognition_dataset`\n",
    "\n",
    "We read the latest version as of April 2020, which was generated for the paper:\n",
    "\n",
    "    Karakurt, A., Şentürk S., & Serra X. (2016). MORTY: A Toolbox for Mode Recognition and Tonic Identification. 3rd International Digital Libraries for Musicology Workshop. New York, USA"
   ]
  },
  {
   "cell_type": "markdown",
   "metadata": {},
   "source": [
    "### Read from github"
   ]
  },
  {
   "cell_type": "code",
   "execution_count": 5,
   "metadata": {},
   "outputs": [
    {
     "name": "stderr",
     "output_type": "stream",
     "text": [
      "INFO:__main__:Reading annotations from https://raw.githubusercontent.com/sertansenturk/otmm_makam_recognition_dataset/dlfm2016-fix1/annotations.json\n"
     ]
    }
   ],
   "source": [
    "logger.info(f\"Reading annotations from {annotation_github_file}\")\n",
    "annotations = pd.read_json(annotation_github_file)\n",
    "annotations[\"mb_url\"] = annotations[\"mbid\"]\n",
    "annotations[\"mbid\"] = annotations[\"mbid\"].str.split(pat = \"/\").apply(lambda a: a[-1])\n"
   ]
  },
  {
   "cell_type": "markdown",
   "metadata": {},
   "source": [
    "### Validate annotations"
   ]
  },
  {
   "cell_type": "code",
   "execution_count": 6,
   "metadata": {},
   "outputs": [],
   "source": [
    "num_recordings = 1000\n",
    "num_recordings_per_makam = 50\n",
    "num_makams = num_recordings / num_recordings_per_makam  # 20\n",
    "\n",
    "assert len(annotations.mbid) == num_recordings, f\"There are less than {num_recordings} recordings\"\n",
    "assert len(annotations.mbid.unique()) == num_recordings, \"MusicBrainz ID (MBIDs) are not unique\"\n",
    "\n",
    "makam_counts = annotations.makam.value_counts()\n",
    "assert len(makam_counts) == num_makams, \"There are less than {num_makams} makams\"\n",
    "np.testing.assert_array_equal(makam_counts.unique(), [50])\n"
   ]
  },
  {
   "cell_type": "markdown",
   "metadata": {},
   "source": [
    "## Download recordings from Dunya makam corpus\n"
   ]
  },
  {
   "cell_type": "markdown",
   "metadata": {},
   "source": [
    "### Authenticate to dunya"
   ]
  },
  {
   "cell_type": "code",
   "execution_count": 7,
   "metadata": {},
   "outputs": [],
   "source": [
    "dunya.set_token(dunya_token)\n"
   ]
  },
  {
   "cell_type": "markdown",
   "metadata": {},
   "source": [
    "## Populate `dunya_uid`s\n",
    "\n",
    "The MBIDs in `CompMusic makam music corpus` may be outdated, i.e. they may not be pointing to the master MBID. `otmm_makam_recognition_dataset` patches such recordings with an extra `dunya_uid` key. \n",
    "\n",
    "Below, we merge the `mbid` and `dunya_uid`'s to ensure we send the correct requests to Dunya API."
   ]
  },
  {
   "cell_type": "code",
   "execution_count": 8,
   "metadata": {},
   "outputs": [
    {
     "data": {
      "text/html": [
       "<div>\n",
       "<style scoped>\n",
       "    .dataframe tbody tr th:only-of-type {\n",
       "        vertical-align: middle;\n",
       "    }\n",
       "\n",
       "    .dataframe tbody tr th {\n",
       "        vertical-align: top;\n",
       "    }\n",
       "\n",
       "    .dataframe thead th {\n",
       "        text-align: right;\n",
       "    }\n",
       "</style>\n",
       "<table border=\"1\" class=\"dataframe\">\n",
       "  <thead>\n",
       "    <tr style=\"text-align: right;\">\n",
       "      <th></th>\n",
       "      <th>mbid</th>\n",
       "      <th>verified</th>\n",
       "      <th>tonic</th>\n",
       "      <th>makam</th>\n",
       "      <th>observations</th>\n",
       "      <th>dunya_uid</th>\n",
       "      <th>mb_url</th>\n",
       "    </tr>\n",
       "  </thead>\n",
       "  <tbody>\n",
       "    <tr>\n",
       "      <th>0</th>\n",
       "      <td>00f1c6d9-c8ee-45e3-a06f-0882ebcb4e2f</td>\n",
       "      <td>False</td>\n",
       "      <td>256.0</td>\n",
       "      <td>Acemasiran</td>\n",
       "      <td></td>\n",
       "      <td>00f1c6d9-c8ee-45e3-a06f-0882ebcb4e2f</td>\n",
       "      <td>http://musicbrainz.org/recording/00f1c6d9-c8ee...</td>\n",
       "    </tr>\n",
       "    <tr>\n",
       "      <th>1</th>\n",
       "      <td>168f7c75-84fb-4316-99d7-acabadd3b2e6</td>\n",
       "      <td>False</td>\n",
       "      <td>115.2</td>\n",
       "      <td>Acemasiran</td>\n",
       "      <td></td>\n",
       "      <td>168f7c75-84fb-4316-99d7-acabadd3b2e6</td>\n",
       "      <td>http://musicbrainz.org/recording/168f7c75-84fb...</td>\n",
       "    </tr>\n",
       "    <tr>\n",
       "      <th>2</th>\n",
       "      <td>24f549dd-3fa4-4e9b-a356-778fbbfd5cad</td>\n",
       "      <td>False</td>\n",
       "      <td>232.5</td>\n",
       "      <td>Acemasiran</td>\n",
       "      <td></td>\n",
       "      <td>24f549dd-3fa4-4e9b-a356-778fbbfd5cad</td>\n",
       "      <td>http://musicbrainz.org/recording/24f549dd-3fa4...</td>\n",
       "    </tr>\n",
       "    <tr>\n",
       "      <th>3</th>\n",
       "      <td>407bb0b4-f19b-42ab-8c0a-9f1263126951</td>\n",
       "      <td>False</td>\n",
       "      <td>233.5</td>\n",
       "      <td>Acemasiran</td>\n",
       "      <td></td>\n",
       "      <td>407bb0b4-f19b-42ab-8c0a-9f1263126951</td>\n",
       "      <td>http://musicbrainz.org/recording/407bb0b4-f19b...</td>\n",
       "    </tr>\n",
       "    <tr>\n",
       "      <th>4</th>\n",
       "      <td>443819eb-6092-420c-bd86-d946a0ad6555</td>\n",
       "      <td>False</td>\n",
       "      <td>219.6</td>\n",
       "      <td>Acemasiran</td>\n",
       "      <td></td>\n",
       "      <td>443819eb-6092-420c-bd86-d946a0ad6555</td>\n",
       "      <td>http://musicbrainz.org/recording/443819eb-6092...</td>\n",
       "    </tr>\n",
       "    <tr>\n",
       "      <th>...</th>\n",
       "      <td>...</td>\n",
       "      <td>...</td>\n",
       "      <td>...</td>\n",
       "      <td>...</td>\n",
       "      <td>...</td>\n",
       "      <td>...</td>\n",
       "      <td>...</td>\n",
       "    </tr>\n",
       "    <tr>\n",
       "      <th>995</th>\n",
       "      <td>3bf62832-d655-458c-af3e-11594f487162</td>\n",
       "      <td>False</td>\n",
       "      <td>146.0</td>\n",
       "      <td>Ussak</td>\n",
       "      <td></td>\n",
       "      <td>3bf62832-d655-458c-af3e-11594f487162</td>\n",
       "      <td>http://musicbrainz.org/recording/3bf62832-d655...</td>\n",
       "    </tr>\n",
       "    <tr>\n",
       "      <th>996</th>\n",
       "      <td>632656b7-6a0f-476a-80cd-ced396bdb57c</td>\n",
       "      <td>False</td>\n",
       "      <td>179.0</td>\n",
       "      <td>Ussak</td>\n",
       "      <td></td>\n",
       "      <td>632656b7-6a0f-476a-80cd-ced396bdb57c</td>\n",
       "      <td>http://musicbrainz.org/recording/632656b7-6a0f...</td>\n",
       "    </tr>\n",
       "    <tr>\n",
       "      <th>997</th>\n",
       "      <td>722df65d-6bb7-4280-8ae5-298c72602133</td>\n",
       "      <td>False</td>\n",
       "      <td>170.0</td>\n",
       "      <td>Ussak</td>\n",
       "      <td></td>\n",
       "      <td>722df65d-6bb7-4280-8ae5-298c72602133</td>\n",
       "      <td>http://musicbrainz.org/recording/722df65d-6bb7...</td>\n",
       "    </tr>\n",
       "    <tr>\n",
       "      <th>998</th>\n",
       "      <td>b576d7fc-3238-4b97-9e19-89acac3cda9e</td>\n",
       "      <td>False</td>\n",
       "      <td>249.0</td>\n",
       "      <td>Ussak</td>\n",
       "      <td></td>\n",
       "      <td>b576d7fc-3238-4b97-9e19-89acac3cda9e</td>\n",
       "      <td>http://musicbrainz.org/recording/b576d7fc-3238...</td>\n",
       "    </tr>\n",
       "    <tr>\n",
       "      <th>999</th>\n",
       "      <td>ebacd0b1-f1d8-4544-ada2-d2f7111360ff</td>\n",
       "      <td>False</td>\n",
       "      <td>163.0</td>\n",
       "      <td>Ussak</td>\n",
       "      <td></td>\n",
       "      <td>ebacd0b1-f1d8-4544-ada2-d2f7111360ff</td>\n",
       "      <td>http://musicbrainz.org/recording/ebacd0b1-f1d8...</td>\n",
       "    </tr>\n",
       "  </tbody>\n",
       "</table>\n",
       "<p>1000 rows × 7 columns</p>\n",
       "</div>"
      ],
      "text/plain": [
       "                                     mbid  verified  tonic       makam  \\\n",
       "0    00f1c6d9-c8ee-45e3-a06f-0882ebcb4e2f     False  256.0  Acemasiran   \n",
       "1    168f7c75-84fb-4316-99d7-acabadd3b2e6     False  115.2  Acemasiran   \n",
       "2    24f549dd-3fa4-4e9b-a356-778fbbfd5cad     False  232.5  Acemasiran   \n",
       "3    407bb0b4-f19b-42ab-8c0a-9f1263126951     False  233.5  Acemasiran   \n",
       "4    443819eb-6092-420c-bd86-d946a0ad6555     False  219.6  Acemasiran   \n",
       "..                                    ...       ...    ...         ...   \n",
       "995  3bf62832-d655-458c-af3e-11594f487162     False  146.0       Ussak   \n",
       "996  632656b7-6a0f-476a-80cd-ced396bdb57c     False  179.0       Ussak   \n",
       "997  722df65d-6bb7-4280-8ae5-298c72602133     False  170.0       Ussak   \n",
       "998  b576d7fc-3238-4b97-9e19-89acac3cda9e     False  249.0       Ussak   \n",
       "999  ebacd0b1-f1d8-4544-ada2-d2f7111360ff     False  163.0       Ussak   \n",
       "\n",
       "    observations                             dunya_uid  \\\n",
       "0                 00f1c6d9-c8ee-45e3-a06f-0882ebcb4e2f   \n",
       "1                 168f7c75-84fb-4316-99d7-acabadd3b2e6   \n",
       "2                 24f549dd-3fa4-4e9b-a356-778fbbfd5cad   \n",
       "3                 407bb0b4-f19b-42ab-8c0a-9f1263126951   \n",
       "4                 443819eb-6092-420c-bd86-d946a0ad6555   \n",
       "..           ...                                   ...   \n",
       "995               3bf62832-d655-458c-af3e-11594f487162   \n",
       "996               632656b7-6a0f-476a-80cd-ced396bdb57c   \n",
       "997               722df65d-6bb7-4280-8ae5-298c72602133   \n",
       "998               b576d7fc-3238-4b97-9e19-89acac3cda9e   \n",
       "999               ebacd0b1-f1d8-4544-ada2-d2f7111360ff   \n",
       "\n",
       "                                                mb_url  \n",
       "0    http://musicbrainz.org/recording/00f1c6d9-c8ee...  \n",
       "1    http://musicbrainz.org/recording/168f7c75-84fb...  \n",
       "2    http://musicbrainz.org/recording/24f549dd-3fa4...  \n",
       "3    http://musicbrainz.org/recording/407bb0b4-f19b...  \n",
       "4    http://musicbrainz.org/recording/443819eb-6092...  \n",
       "..                                                 ...  \n",
       "995  http://musicbrainz.org/recording/3bf62832-d655...  \n",
       "996  http://musicbrainz.org/recording/632656b7-6a0f...  \n",
       "997  http://musicbrainz.org/recording/722df65d-6bb7...  \n",
       "998  http://musicbrainz.org/recording/b576d7fc-3238...  \n",
       "999  http://musicbrainz.org/recording/ebacd0b1-f1d8...  \n",
       "\n",
       "[1000 rows x 7 columns]"
      ]
     },
     "metadata": {},
     "output_type": "display_data"
    }
   ],
   "source": [
    "annotations.loc[annotations[\"dunya_uid\"].isna(), \"dunya_uid\"] = \\\n",
    "    annotations.loc[annotations[\"dunya_uid\"].isna(), \"mbid\"]\n",
    "\n",
    "display(annotations)"
   ]
  },
  {
   "cell_type": "markdown",
   "metadata": {},
   "source": [
    "### Download and save to a temporary folder\n",
    "\n",
    "Here, we do not work with tempfiles, because we may have to manually add some recordings if anything fails below. We create the temporary folder inside the `data` folder which is inside the shared Docker volumes, to easily move the audio around."
   ]
  },
  {
   "cell_type": "code",
   "execution_count": 9,
   "metadata": {
    "scrolled": true
   },
   "outputs": [
    {
     "data": {
      "application/vnd.jupyter.widget-view+json": {
       "model_id": "39a5e0b4f4f2473a8cc4288a28c9cf7b",
       "version_major": 2,
       "version_minor": 0
      },
      "text/plain": [
       "HBox(children=(FloatProgress(value=0.0, max=1000.0), HTML(value='')))"
      ]
     },
     "metadata": {},
     "output_type": "display_data"
    },
    {
     "name": "stdout",
     "output_type": "stream",
     "text": [
      "\n"
     ]
    }
   ],
   "source": [
    "audio_tmp_folder = os.path.join(staging_dir, \"mre_audio\")\n",
    "Path(audio_tmp_folder).mkdir(parents=True, exist_ok=True)\n",
    "\n",
    "failed_mbids = dict()\n",
    "for idx, anno in tqdm(annotations.iterrows(), total=num_recordings):\n",
    "    tmp_file = os.path.join(audio_tmp_folder, f\"{anno.mbid}.mp3\")\n",
    "    \n",
    "    if not os.path.exists(tmp_file):\n",
    "        try:\n",
    "            mp3_content = dunya.docserver.get_mp3(anno.dunya_uid)\n",
    "            with open(tmp_file, \"wb\") as f:\n",
    "                f.write(mp3_content)\n",
    "        except dunya.conn.HTTPError as e:\n",
    "            if \"404 Client Error: Not Found for url:\" in str(e):\n",
    "                logger.error(\"%d/%d: %s. Skipping...\" % (idx, num_recordings, str(e)))\n",
    "                failed_mbids[anno.mbid] = {\n",
    "                    \"type\": \"dunya.conn.HTTPError\",\n",
    "                    \"reason\": \"404_url_not_found\",\n",
    "                    \"message\": str(e)\n",
    "                }\n",
    "            else:\n",
    "                raise e\n"
   ]
  },
  {
   "cell_type": "markdown",
   "metadata": {},
   "source": [
    "### Ensure the filenames and mbid's all match\n",
    "\n",
    "If there are any missing or extra files, we stop here so we don't accidentally corrupt the data/pipeline."
   ]
  },
  {
   "cell_type": "code",
   "execution_count": 10,
   "metadata": {},
   "outputs": [],
   "source": [
    "onlyfiles = [os.path.splitext(f)[0]\n",
    "             for f in os.listdir(audio_tmp_folder)\n",
    "             if os.path.isfile(os.path.join(audio_tmp_folder, f))]\n",
    "assert sorted(list(onlyfiles)) == sorted(list(annotations.mbid))"
   ]
  },
  {
   "cell_type": "markdown",
   "metadata": {},
   "source": [
    "## Log recordings as mlflow artifacts"
   ]
  },
  {
   "cell_type": "code",
   "execution_count": 11,
   "metadata": {},
   "outputs": [
    {
     "name": "stdout",
     "output_type": "stream",
     "text": [
      "Automatic pdb calling has been turned ON\n",
      "INFO: 'dataset_preparation' does not exist. Creating a new experiment\n"
     ]
    },
    {
     "ename": "NameError",
     "evalue": "name 'sdfwef' is not defined",
     "output_type": "error",
     "traceback": [
      "\u001b[0;31m---------------------------------------------------------------------------\u001b[0m",
      "\u001b[0;31mNameError\u001b[0m                                 Traceback (most recent call last)",
      "\u001b[0;32m<ipython-input-11-b5e30616cd49>\u001b[0m in \u001b[0;36m<module>\u001b[0;34m\u001b[0m\n\u001b[1;32m      4\u001b[0m \u001b[0mmlflow\u001b[0m\u001b[0;34m.\u001b[0m\u001b[0mset_experiment\u001b[0m\u001b[0;34m(\u001b[0m\u001b[0;34m'dataset_preparation'\u001b[0m\u001b[0;34m)\u001b[0m\u001b[0;34m\u001b[0m\u001b[0;34m\u001b[0m\u001b[0m\n\u001b[1;32m      5\u001b[0m \u001b[0;32mwith\u001b[0m \u001b[0mmlflow\u001b[0m\u001b[0;34m.\u001b[0m\u001b[0mstart_run\u001b[0m\u001b[0;34m(\u001b[0m\u001b[0;34m)\u001b[0m \u001b[0;32mas\u001b[0m \u001b[0mmlflow_run\u001b[0m\u001b[0;34m:\u001b[0m\u001b[0;34m\u001b[0m\u001b[0;34m\u001b[0m\u001b[0m\n\u001b[0;32m----> 6\u001b[0;31m     \u001b[0msdfwef\u001b[0m\u001b[0;34m\u001b[0m\u001b[0;34m\u001b[0m\u001b[0m\n\u001b[0m\u001b[1;32m      7\u001b[0m \u001b[0;31m#     mlflow.active_run()\u001b[0m\u001b[0;34m\u001b[0m\u001b[0;34m\u001b[0m\u001b[0;34m\u001b[0m\u001b[0m\n\u001b[1;32m      8\u001b[0m \u001b[0;31m#     mlflow.log_param(\"name\", \"test\")\u001b[0m\u001b[0;34m\u001b[0m\u001b[0;34m\u001b[0m\u001b[0;34m\u001b[0m\u001b[0m\n",
      "\u001b[0;31mNameError\u001b[0m: name 'sdfwef' is not defined"
     ]
    },
    {
     "name": "stdout",
     "output_type": "stream",
     "text": [
      "> \u001b[0;32m<ipython-input-11-b5e30616cd49>\u001b[0m(6)\u001b[0;36m<module>\u001b[0;34m()\u001b[0m\n",
      "\u001b[0;32m      4 \u001b[0;31m\u001b[0mmlflow\u001b[0m\u001b[0;34m.\u001b[0m\u001b[0mset_experiment\u001b[0m\u001b[0;34m(\u001b[0m\u001b[0;34m'dataset_preparation'\u001b[0m\u001b[0;34m)\u001b[0m\u001b[0;34m\u001b[0m\u001b[0;34m\u001b[0m\u001b[0m\n",
      "\u001b[0m\u001b[0;32m      5 \u001b[0;31m\u001b[0;32mwith\u001b[0m \u001b[0mmlflow\u001b[0m\u001b[0;34m.\u001b[0m\u001b[0mstart_run\u001b[0m\u001b[0;34m(\u001b[0m\u001b[0;34m)\u001b[0m \u001b[0;32mas\u001b[0m \u001b[0mmlflow_run\u001b[0m\u001b[0;34m:\u001b[0m\u001b[0;34m\u001b[0m\u001b[0;34m\u001b[0m\u001b[0m\n",
      "\u001b[0m\u001b[0;32m----> 6 \u001b[0;31m    \u001b[0msdfwef\u001b[0m\u001b[0;34m\u001b[0m\u001b[0;34m\u001b[0m\u001b[0m\n",
      "\u001b[0m\u001b[0;32m      7 \u001b[0;31m\u001b[0;31m#     mlflow.active_run()\u001b[0m\u001b[0;34m\u001b[0m\u001b[0;34m\u001b[0m\u001b[0;34m\u001b[0m\u001b[0m\n",
      "\u001b[0m\u001b[0;32m      8 \u001b[0;31m\u001b[0;31m#     mlflow.log_param(\"name\", \"test\")\u001b[0m\u001b[0;34m\u001b[0m\u001b[0;34m\u001b[0m\u001b[0;34m\u001b[0m\u001b[0m\n",
      "\u001b[0m\n"
     ]
    },
    {
     "name": "stdin",
     "output_type": "stream",
     "text": [
      "ipdb>  mlflow_run\n"
     ]
    },
    {
     "name": "stdout",
     "output_type": "stream",
     "text": [
      "<ActiveRun: >\n"
     ]
    },
    {
     "name": "stdin",
     "output_type": "stream",
     "text": [
      "ipdb>  mlflow_run.info\n"
     ]
    },
    {
     "name": "stdout",
     "output_type": "stream",
     "text": [
      "<RunInfo: artifact_uri='/data/artifacts/2/d8041d43ada9435486781364be55668f/artifacts', end_time=None, experiment_id='2', lifecycle_stage='active', run_id='d8041d43ada9435486781364be55668f', run_uuid='d8041d43ada9435486781364be55668f', start_time=1586904379827, status='RUNNING', user_id='sertansenturk'>\n"
     ]
    },
    {
     "name": "stdin",
     "output_type": "stream",
     "text": [
      "ipdb>  q\n"
     ]
    }
   ],
   "source": [
    "%pdb\n",
    "\n",
    "mlflow.set_experiment('dataset_preparation')\n",
    "with mlflow.start_run() as mlflow_run:\n",
    "    run_id = mlflow_run.info.run_id\n",
    "    sdfwef\n",
    "#     mlflow.active_run()\n",
    "#     mlflow.log_param(\"name\", \"test\")\n",
    "#     mlflow.log_param(\"waether\", \"sunny\")\n",
    "#     mlflow.log_param(\"mood\", \"great\")\n",
    "    \n",
    "#     for i in range(10):\n",
    "#         mlflow.log_metric(\"i\", i)\n",
    "#     mlflow.log_artifact(\"mlflow_example.ipynb\")"
   ]
  },
  {
   "cell_type": "markdown",
   "metadata": {},
   "source": [
    "### Remove staging folder"
   ]
  }
 ],
 "metadata": {
  "kernelspec": {
   "display_name": "Python 3",
   "language": "python",
   "name": "python3"
  },
  "language_info": {
   "codemirror_mode": {
    "name": "ipython",
    "version": 3
   },
   "file_extension": ".py",
   "mimetype": "text/x-python",
   "name": "python",
   "nbconvert_exporter": "python",
   "pygments_lexer": "ipython3",
   "version": "3.7.6"
  }
 },
 "nbformat": 4,
 "nbformat_minor": 4
}
