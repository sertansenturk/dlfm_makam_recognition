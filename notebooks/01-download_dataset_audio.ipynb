{
 "cells": [
  {
   "cell_type": "markdown",
   "metadata": {},
   "source": [
    "# 01-download_dataset_audio\n",
    "\n",
    "This notebook downloads the audio recordings listed in the `annotation.json` from [Dunya makam music corpus](https://dunya.compmusic.upf.edu/).  The annotations are saved in a `mlflow` run called `download_audio` under an experiment named `data_processing`."
   ]
  },
  {
   "cell_type": "code",
   "execution_count": 1,
   "metadata": {},
   "outputs": [],
   "source": [
    "import configparser\n",
    "import importlib\n",
    "import logging\n",
    "import os\n",
    "import tempfile\n",
    "\n",
    "import mlflow\n",
    "import pandas as pd\n",
    "\n",
    "from compmusic import dunya\n",
    "from tqdm.notebook import tqdm\n"
   ]
  },
  {
   "cell_type": "markdown",
   "metadata": {},
   "source": [
    "## Stop if audio were fetched in the past\n"
   ]
  },
  {
   "cell_type": "code",
   "execution_count": null,
   "metadata": {},
   "outputs": [],
   "source": [
    "experiment_name = \"data_processing\"\n",
    "run_name = \"download_audio\"\n",
    "\n",
    "experiment = mlflow.get_experiment_by_name(experiment_name)\n",
    "if experiment is not None:\n",
    "    annotation_runs = mlflow.search_runs(\n",
    "        experiment_ids=experiment.experiment_id,\n",
    "        filter_string=f\"tags.mlflow.runName = '{run_name}'\")\n",
    "\n",
    "    assert len(annotation_runs) == 0, (\n",
    "        f\"There is already a run for {run_name}:{', '.join(annotation_runs.run_id)}. \"\n",
    "        \"Overwriting is not permitted. Please inspect the run in the mlflow UI \"\n",
    "        \"and manually make the necessary corrections.\")\n"
   ]
  },
  {
   "cell_type": "markdown",
   "metadata": {},
   "source": [
    "## Init logger"
   ]
  },
  {
   "cell_type": "code",
   "execution_count": 2,
   "metadata": {},
   "outputs": [
    {
     "name": "stderr",
     "output_type": "stream",
     "text": [
      "INFO:__main__:Logger initiated...\n"
     ]
    }
   ],
   "source": [
    "importlib.reload(logging)  # fix jupyter logging: https://stackoverflow.com/a/21475297\n",
    "logging.basicConfig(level=logging.INFO)\n",
    "\n",
    "# create logger\n",
    "logger = logging.getLogger(__name__)\n",
    "logger.setLevel(logging.INFO)\n",
    "\n",
    "logger.info(\"Logger initiated...\")"
   ]
  },
  {
   "cell_type": "markdown",
   "metadata": {},
   "source": [
    "## Read relevant parts of the configuration"
   ]
  },
  {
   "cell_type": "code",
   "execution_count": 3,
   "metadata": {},
   "outputs": [
    {
     "name": "stderr",
     "output_type": "stream",
     "text": [
      "INFO:__main__:Reading configuration from ['../config/config.ini']\n"
     ]
    }
   ],
   "source": [
    "config_dir = \"../config\"\n",
    "\n",
    "config = configparser.ConfigParser()\n",
    "config_file = config.read(os.path.join(config_dir, 'config.ini'))\n",
    "logger.info(f\"Reading configuration from {config_file}\")\n",
    "\n",
    "secrets_file = os.path.join(config_dir, config[\"secrets\"][\"file\"])\n"
   ]
  },
  {
   "cell_type": "markdown",
   "metadata": {},
   "source": [
    "## Read secrets; never commit these to the repo!!!\n"
   ]
  },
  {
   "cell_type": "code",
   "execution_count": 4,
   "metadata": {},
   "outputs": [
    {
     "name": "stderr",
     "output_type": "stream",
     "text": [
      "INFO:__main__:Reading secrets from ['../config/./secrets.ini']\n"
     ]
    }
   ],
   "source": [
    "if not os.path.exists(secrets_file):\n",
    "    raise FileNotFoundError(f\"{secrets_file} does not exist\")\n",
    "\n",
    "secrets_file = config.read(secrets_file)\n",
    "logger.info(f\"Reading secrets from {secrets_file}\")\n",
    "\n",
    "dunya_token = config[\"tokens\"][\"dunya\"]"
   ]
  },
  {
   "cell_type": "markdown",
   "metadata": {},
   "source": [
    "## Read annotations from mlflow\n"
   ]
  },
  {
   "cell_type": "code",
   "execution_count": 33,
   "metadata": {},
   "outputs": [
    {
     "data": {
      "text/html": [
       "<div>\n",
       "<style scoped>\n",
       "    .dataframe tbody tr th:only-of-type {\n",
       "        vertical-align: middle;\n",
       "    }\n",
       "\n",
       "    .dataframe tbody tr th {\n",
       "        vertical-align: top;\n",
       "    }\n",
       "\n",
       "    .dataframe thead th {\n",
       "        text-align: right;\n",
       "    }\n",
       "</style>\n",
       "<table border=\"1\" class=\"dataframe\">\n",
       "  <thead>\n",
       "    <tr style=\"text-align: right;\">\n",
       "      <th></th>\n",
       "      <th>run_id</th>\n",
       "      <th>experiment_id</th>\n",
       "      <th>status</th>\n",
       "      <th>artifact_uri</th>\n",
       "      <th>start_time</th>\n",
       "      <th>end_time</th>\n",
       "      <th>tags.dataset_annotation_file</th>\n",
       "      <th>tags.mlflow.source.git.commit</th>\n",
       "      <th>tags.dataset_git_tag</th>\n",
       "      <th>tags.mlflow.user</th>\n",
       "      <th>tags.dataset_num_recordings</th>\n",
       "      <th>tags.dataset_num_recordings_per_makam</th>\n",
       "      <th>tags.mlflow.source.type</th>\n",
       "      <th>tags.mlflow.source.git.repoURL</th>\n",
       "      <th>tags.dataset_url</th>\n",
       "      <th>tags.mlflow.runName</th>\n",
       "      <th>tags.mlflow.source.name</th>\n",
       "      <th>tags.dataset_name</th>\n",
       "    </tr>\n",
       "  </thead>\n",
       "  <tbody>\n",
       "    <tr>\n",
       "      <th>0</th>\n",
       "      <td>4c5d3a2ff4d249778460b9a4d97b6392</td>\n",
       "      <td>1</td>\n",
       "      <td>FINISHED</td>\n",
       "      <td>/data/artifacts/1/4c5d3a2ff4d249778460b9a4d97b...</td>\n",
       "      <td>2020-06-07 17:31:58.301000+00:00</td>\n",
       "      <td>2020-06-07 17:31:58.405000+00:00</td>\n",
       "      <td>https://raw.githubusercontent.com/sertansentur...</td>\n",
       "      <td>d086c8c17e1532dbf3e0e98ae19ac09677a21c81</td>\n",
       "      <td>dlfm2016-fix1</td>\n",
       "      <td>sertansenturk</td>\n",
       "      <td>1000</td>\n",
       "      <td>50</td>\n",
       "      <td>NOTEBOOK</td>\n",
       "      <td>git@github.com:sertansenturk/makam_recognition...</td>\n",
       "      <td>https://raw.githubusercontent.com/sertansentur...</td>\n",
       "      <td>download_annotations</td>\n",
       "      <td>./notebooks/00-download_dataset_annotations.ipynb</td>\n",
       "      <td>otmm_makam_recognition_dataset</td>\n",
       "    </tr>\n",
       "  </tbody>\n",
       "</table>\n",
       "</div>"
      ],
      "text/plain": [
       "                             run_id experiment_id    status  \\\n",
       "0  4c5d3a2ff4d249778460b9a4d97b6392             1  FINISHED   \n",
       "\n",
       "                                        artifact_uri  \\\n",
       "0  /data/artifacts/1/4c5d3a2ff4d249778460b9a4d97b...   \n",
       "\n",
       "                        start_time                         end_time  \\\n",
       "0 2020-06-07 17:31:58.301000+00:00 2020-06-07 17:31:58.405000+00:00   \n",
       "\n",
       "                        tags.dataset_annotation_file  \\\n",
       "0  https://raw.githubusercontent.com/sertansentur...   \n",
       "\n",
       "              tags.mlflow.source.git.commit tags.dataset_git_tag  \\\n",
       "0  d086c8c17e1532dbf3e0e98ae19ac09677a21c81        dlfm2016-fix1   \n",
       "\n",
       "  tags.mlflow.user tags.dataset_num_recordings  \\\n",
       "0    sertansenturk                        1000   \n",
       "\n",
       "  tags.dataset_num_recordings_per_makam tags.mlflow.source.type  \\\n",
       "0                                    50                NOTEBOOK   \n",
       "\n",
       "                      tags.mlflow.source.git.repoURL  \\\n",
       "0  git@github.com:sertansenturk/makam_recognition...   \n",
       "\n",
       "                                    tags.dataset_url   tags.mlflow.runName  \\\n",
       "0  https://raw.githubusercontent.com/sertansentur...  download_annotations   \n",
       "\n",
       "                             tags.mlflow.source.name  \\\n",
       "0  ./notebooks/00-download_dataset_annotations.ipynb   \n",
       "\n",
       "                tags.dataset_name  \n",
       "0  otmm_makam_recognition_dataset  "
      ]
     },
     "metadata": {},
     "output_type": "display_data"
    },
    {
     "data": {
      "text/html": [
       "<div>\n",
       "<style scoped>\n",
       "    .dataframe tbody tr th:only-of-type {\n",
       "        vertical-align: middle;\n",
       "    }\n",
       "\n",
       "    .dataframe tbody tr th {\n",
       "        vertical-align: top;\n",
       "    }\n",
       "\n",
       "    .dataframe thead th {\n",
       "        text-align: right;\n",
       "    }\n",
       "</style>\n",
       "<table border=\"1\" class=\"dataframe\">\n",
       "  <thead>\n",
       "    <tr style=\"text-align: right;\">\n",
       "      <th></th>\n",
       "      <th>mbid</th>\n",
       "      <th>verified</th>\n",
       "      <th>tonic</th>\n",
       "      <th>makam</th>\n",
       "      <th>observations</th>\n",
       "      <th>dunya_uid</th>\n",
       "      <th>mb_url</th>\n",
       "    </tr>\n",
       "  </thead>\n",
       "  <tbody>\n",
       "    <tr>\n",
       "      <th>0</th>\n",
       "      <td>00f1c6d9-c8ee-45e3-a06f-0882ebcb4e2f</td>\n",
       "      <td>False</td>\n",
       "      <td>256.0</td>\n",
       "      <td>Acemasiran</td>\n",
       "      <td></td>\n",
       "      <td>00f1c6d9-c8ee-45e3-a06f-0882ebcb4e2f</td>\n",
       "      <td>http://musicbrainz.org/recording/00f1c6d9-c8ee...</td>\n",
       "    </tr>\n",
       "    <tr>\n",
       "      <th>1</th>\n",
       "      <td>168f7c75-84fb-4316-99d7-acabadd3b2e6</td>\n",
       "      <td>False</td>\n",
       "      <td>115.2</td>\n",
       "      <td>Acemasiran</td>\n",
       "      <td></td>\n",
       "      <td>168f7c75-84fb-4316-99d7-acabadd3b2e6</td>\n",
       "      <td>http://musicbrainz.org/recording/168f7c75-84fb...</td>\n",
       "    </tr>\n",
       "    <tr>\n",
       "      <th>2</th>\n",
       "      <td>24f549dd-3fa4-4e9b-a356-778fbbfd5cad</td>\n",
       "      <td>False</td>\n",
       "      <td>232.5</td>\n",
       "      <td>Acemasiran</td>\n",
       "      <td></td>\n",
       "      <td>24f549dd-3fa4-4e9b-a356-778fbbfd5cad</td>\n",
       "      <td>http://musicbrainz.org/recording/24f549dd-3fa4...</td>\n",
       "    </tr>\n",
       "    <tr>\n",
       "      <th>3</th>\n",
       "      <td>407bb0b4-f19b-42ab-8c0a-9f1263126951</td>\n",
       "      <td>False</td>\n",
       "      <td>233.5</td>\n",
       "      <td>Acemasiran</td>\n",
       "      <td></td>\n",
       "      <td>407bb0b4-f19b-42ab-8c0a-9f1263126951</td>\n",
       "      <td>http://musicbrainz.org/recording/407bb0b4-f19b...</td>\n",
       "    </tr>\n",
       "    <tr>\n",
       "      <th>4</th>\n",
       "      <td>443819eb-6092-420c-bd86-d946a0ad6555</td>\n",
       "      <td>False</td>\n",
       "      <td>219.6</td>\n",
       "      <td>Acemasiran</td>\n",
       "      <td></td>\n",
       "      <td>443819eb-6092-420c-bd86-d946a0ad6555</td>\n",
       "      <td>http://musicbrainz.org/recording/443819eb-6092...</td>\n",
       "    </tr>\n",
       "  </tbody>\n",
       "</table>\n",
       "</div>"
      ],
      "text/plain": [
       "                                   mbid  verified  tonic       makam  \\\n",
       "0  00f1c6d9-c8ee-45e3-a06f-0882ebcb4e2f     False  256.0  Acemasiran   \n",
       "1  168f7c75-84fb-4316-99d7-acabadd3b2e6     False  115.2  Acemasiran   \n",
       "2  24f549dd-3fa4-4e9b-a356-778fbbfd5cad     False  232.5  Acemasiran   \n",
       "3  407bb0b4-f19b-42ab-8c0a-9f1263126951     False  233.5  Acemasiran   \n",
       "4  443819eb-6092-420c-bd86-d946a0ad6555     False  219.6  Acemasiran   \n",
       "\n",
       "  observations                             dunya_uid  \\\n",
       "0               00f1c6d9-c8ee-45e3-a06f-0882ebcb4e2f   \n",
       "1               168f7c75-84fb-4316-99d7-acabadd3b2e6   \n",
       "2               24f549dd-3fa4-4e9b-a356-778fbbfd5cad   \n",
       "3               407bb0b4-f19b-42ab-8c0a-9f1263126951   \n",
       "4               443819eb-6092-420c-bd86-d946a0ad6555   \n",
       "\n",
       "                                              mb_url  \n",
       "0  http://musicbrainz.org/recording/00f1c6d9-c8ee...  \n",
       "1  http://musicbrainz.org/recording/168f7c75-84fb...  \n",
       "2  http://musicbrainz.org/recording/24f549dd-3fa4...  \n",
       "3  http://musicbrainz.org/recording/407bb0b4-f19b...  \n",
       "4  http://musicbrainz.org/recording/443819eb-6092...  "
      ]
     },
     "metadata": {},
     "output_type": "display_data"
    }
   ],
   "source": [
    "experiment_name = \"data_processing\"\n",
    "annotation_run_name = \"download_annotations\"\n",
    "annotation_filename = \"annotations.json\"\n",
    "\n",
    "experiment = mlflow.get_experiment_by_name(experiment_name)\n",
    "\n",
    "annotation_run = mlflow.search_runs(\n",
    "    experiment_ids=experiment.experiment_id,\n",
    "    filter_string=f\"tags.mlflow.runName = '{annotation_run_name}'\")\n",
    "\n",
    "assert len(annotation_run) > 0, (\n",
    "    f\"There are more than one runs for {annotation_run_name}:{', '.join(annotation_runs.run_id)}. \"\n",
    "    \"Please inspect the run in the mlflow UI and manually make the necessary corrections.\")\n",
    "\n",
    "display(annotation_run)\n",
    "\n",
    "# artifact_uri shows the absolute path in the mlflow container\n",
    "# change it to the relative path in the jupyter container\n",
    "# note: os.path.join would not work because os.path.join(\"..\", abs_path) => abs_path\n",
    "artifact_uri = \"..\" + annotation_run.iloc[0].artifact_uri\n",
    "\n",
    "annotation_file = os.path.join(artifact_uri, annotation_filename)\n",
    "annotations = pd.read_json(annotation_file, orient=\"records\")\n",
    "display(annotations.head())"
   ]
  },
  {
   "cell_type": "markdown",
   "metadata": {},
   "source": [
    "## Download recordings from Dunya makam corpus\n"
   ]
  },
  {
   "cell_type": "markdown",
   "metadata": {},
   "source": [
    "### Authenticate to dunya"
   ]
  },
  {
   "cell_type": "code",
   "execution_count": 34,
   "metadata": {},
   "outputs": [],
   "source": [
    "dunya.set_token(dunya_token)\n"
   ]
  },
  {
   "cell_type": "markdown",
   "metadata": {},
   "source": [
    "### Download audio and save to mlflow as artifacts"
   ]
  },
  {
   "cell_type": "code",
   "execution_count": 36,
   "metadata": {},
   "outputs": [
    {
     "data": {
      "application/vnd.jupyter.widget-view+json": {
       "model_id": "01ed7865c24c4e63af93b517f87e586d",
       "version_major": 2,
       "version_minor": 0
      },
      "text/plain": [
       "HBox(children=(FloatProgress(value=0.0, max=1000.0), HTML(value='')))"
      ]
     },
     "metadata": {},
     "output_type": "display_data"
    },
    {
     "name": "stdout",
     "output_type": "stream",
     "text": [
      "\n"
     ]
    }
   ],
   "source": [
    "mlflow.set_experiment(experiment_name)\n",
    "with mlflow.start_run(run_name=run_name) as mlflow_run:\n",
    "    run_id = mlflow_run.info.run_id\n",
    "    \n",
    "    git_repo_url = !git config --get remote.origin.url\n",
    "    git_commit = !git rev-parse HEAD\n",
    "    notebook_name = \"./notebooks/01-download_dataset_audio.ipynb\"\n",
    "    mlflow.set_tags({\n",
    "        \"mlflow.source.type\": \"NOTEBOOK\",\n",
    "        \"mlflow.source.name\": notebook_name,\n",
    "        \"mlflow.source.git.commit\": git_commit[0],\n",
    "        \"mlflow.source.git.repoURL\": git_repo_url[0],\n",
    "        \"mlflow.audio_source\": \"https://dunya.compmusic.upf.edu\"\n",
    "    })\n",
    "    \n",
    "    with tempfile.TemporaryDirectory() as tmp_dir:\n",
    "        failed_mbids = dict()\n",
    "        num_recordings = len(annotations)\n",
    "        for idx, anno in tqdm(annotations.iterrows(), total=num_recordings):\n",
    "            tmp_file = os.path.join(tmp_dir, f\"{anno.mbid}.mp3\")\n",
    "\n",
    "            try:\n",
    "                mp3_content = dunya.docserver.get_mp3(anno.dunya_uid)\n",
    "                with open(tmp_file, \"wb\") as f:\n",
    "                    f.write(mp3_content)\n",
    "            except dunya.conn.HTTPError as e:\n",
    "                if \"404 Client Error: Not Found for url:\" in str(e):\n",
    "                    logger.error(\"%d/%d: %s. Skipping...\" % (idx, num_recordings, str(e)))\n",
    "                    failed_mbids[anno.mbid] = {\n",
    "                        \"type\": \"dunya.conn.HTTPError\",\n",
    "                        \"reason\": \"404_url_not_found\",\n",
    "                        \"message\": str(e)\n",
    "                    }\n",
    "                else:\n",
    "                    raise e\n",
    "\n",
    "        mlflow.log_artifacts(tmp_dir)\n"
   ]
  }
 ],
 "metadata": {
  "kernelspec": {
   "display_name": "Python 3",
   "language": "python",
   "name": "python3"
  },
  "language_info": {
   "codemirror_mode": {
    "name": "ipython",
    "version": 3
   },
   "file_extension": ".py",
   "mimetype": "text/x-python",
   "name": "python",
   "nbconvert_exporter": "python",
   "pygments_lexer": "ipython3",
   "version": "3.7.6"
  }
 },
 "nbformat": 4,
 "nbformat_minor": 4
}
