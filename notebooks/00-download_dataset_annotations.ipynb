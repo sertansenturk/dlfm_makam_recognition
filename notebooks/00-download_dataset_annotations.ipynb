{
 "cells": [
  {
   "cell_type": "markdown",
   "metadata": {},
   "source": [
    "# 00-download_dataset_annotations\n",
    "\n",
    "This notebook downloads `annotation.json` from the `dlfm2016-fix1` release of [otmm_makam_recognition_dataset](https://github.com/sertansenturk/otmm_makam_recognition_dataset/blob/dlfm2016-fix1/annotations.json). Then, it creates an mlflow run under an experiment named `data_processing`, parses the annotations and saves it as an artifact with relevant information."
   ]
  },
  {
   "cell_type": "code",
   "execution_count": 1,
   "metadata": {},
   "outputs": [],
   "source": [
    "import configparser\n",
    "import importlib\n",
    "import logging\n",
    "import os\n",
    "\n",
    "from datetime import datetime\n",
    "from pathlib import Path\n",
    "\n",
    "import mlflow\n",
    "import numpy as np\n",
    "import pandas as pd\n"
   ]
  },
  {
   "cell_type": "markdown",
   "metadata": {},
   "source": [
    "## Init logger"
   ]
  },
  {
   "cell_type": "code",
   "execution_count": 2,
   "metadata": {},
   "outputs": [
    {
     "name": "stderr",
     "output_type": "stream",
     "text": [
      "INFO:__main__:Logger initiated...\n"
     ]
    }
   ],
   "source": [
    "importlib.reload(logging)  # fix jupyter logging: https://stackoverflow.com/a/21475297\n",
    "logging.basicConfig(level=logging.INFO)\n",
    "\n",
    "# create logger\n",
    "logger = logging.getLogger(__name__)\n",
    "logger.setLevel(logging.INFO)\n",
    "\n",
    "logger.info(\"Logger initiated...\")"
   ]
  },
  {
   "cell_type": "markdown",
   "metadata": {},
   "source": [
    "## Read relevant parts of the configuration"
   ]
  },
  {
   "cell_type": "code",
   "execution_count": 3,
   "metadata": {},
   "outputs": [
    {
     "name": "stderr",
     "output_type": "stream",
     "text": [
      "INFO:__main__:Reading configuration from ['../config/config.ini']\n",
      "INFO:__main__:Staging directory: .././data/staging/\n",
      "INFO:__main__:annotations.json URL: https://raw.githubusercontent.com/sertansenturk/otmm_makam_recognition_dataset/dlfm2016-fix1/annotations.json\n"
     ]
    }
   ],
   "source": [
    "config_dir = \"../config\"\n",
    "\n",
    "config = configparser.ConfigParser()\n",
    "config_file = config.read(os.path.join(config_dir, 'config.ini'))\n",
    "logger.info(f\"Reading configuration from {config_file}\")\n",
    "\n",
    "annotation_github_file = config[\"dataset\"][\"annotation_file\"]\n",
    "staging_dir = os.path.join(\"..\", config[\"preprocessing\"][\"staging_dir\"])\n",
    "num_recordings = config.getint(\"dataset\", \"num_recordings\")\n",
    "num_recordings_per_makam = config.getint(\"dataset\", \"num_recordings_per_makam\")\n",
    "num_makams = num_recordings / num_recordings_per_makam  # 20\n",
    "\n",
    "logger.info(f\"Staging directory: {staging_dir}\")\n",
    "logger.info(f\"annotations.json URL: {annotation_github_file}\")"
   ]
  },
  {
   "cell_type": "markdown",
   "metadata": {},
   "source": [
    "## Read annotations from `otmm_makam_recognition_dataset`\n",
    "\n",
    "We use the `otmm_makam_recognition_dataset`, which was compiled for the following paper:\n",
    "\n",
    "    Karakurt, A., Şentürk S., & Serra X. (2016). MORTY: A Toolbox for Mode Recognition and Tonic Identification. 3rd International Digital Libraries for Musicology Workshop. New York, USA\n",
    "    \n",
    "We read the annotations from `dlfm2016-fix1`, the latest release of the dataset as of April 2020. "
   ]
  },
  {
   "cell_type": "markdown",
   "metadata": {},
   "source": [
    "### Read from github"
   ]
  },
  {
   "cell_type": "code",
   "execution_count": 4,
   "metadata": {},
   "outputs": [
    {
     "name": "stderr",
     "output_type": "stream",
     "text": [
      "INFO:__main__:Reading annotations from https://raw.githubusercontent.com/sertansenturk/otmm_makam_recognition_dataset/dlfm2016-fix1/annotations.json\n"
     ]
    }
   ],
   "source": [
    "logger.info(f\"Reading annotations from {annotation_github_file}\")\n",
    "annotations = pd.read_json(annotation_github_file)\n",
    "annotations[\"mb_url\"] = annotations[\"mbid\"]\n",
    "annotations[\"mbid\"] = annotations[\"mbid\"].str.split(pat = \"/\").apply(lambda a: a[-1])\n"
   ]
  },
  {
   "cell_type": "markdown",
   "metadata": {},
   "source": [
    "### Populate `dunya_uid`s\n",
    "\n",
    "The MBIDs in `CompMusic makam music corpus` may be outdated, i.e. they may not be pointing to the master MBID. `otmm_makam_recognition_dataset` patches such recordings with an extra `dunya_uid` key. \n",
    "\n",
    "Below, we merge the `mbid` and `dunya_uid`'s to ensure we send the correct requests to Dunya API."
   ]
  },
  {
   "cell_type": "code",
   "execution_count": 5,
   "metadata": {},
   "outputs": [
    {
     "data": {
      "text/html": [
       "<div>\n",
       "<style scoped>\n",
       "    .dataframe tbody tr th:only-of-type {\n",
       "        vertical-align: middle;\n",
       "    }\n",
       "\n",
       "    .dataframe tbody tr th {\n",
       "        vertical-align: top;\n",
       "    }\n",
       "\n",
       "    .dataframe thead th {\n",
       "        text-align: right;\n",
       "    }\n",
       "</style>\n",
       "<table border=\"1\" class=\"dataframe\">\n",
       "  <thead>\n",
       "    <tr style=\"text-align: right;\">\n",
       "      <th></th>\n",
       "      <th>mbid</th>\n",
       "      <th>verified</th>\n",
       "      <th>tonic</th>\n",
       "      <th>makam</th>\n",
       "      <th>observations</th>\n",
       "      <th>dunya_uid</th>\n",
       "      <th>mb_url</th>\n",
       "    </tr>\n",
       "  </thead>\n",
       "  <tbody>\n",
       "    <tr>\n",
       "      <th>0</th>\n",
       "      <td>00f1c6d9-c8ee-45e3-a06f-0882ebcb4e2f</td>\n",
       "      <td>False</td>\n",
       "      <td>256.0</td>\n",
       "      <td>Acemasiran</td>\n",
       "      <td></td>\n",
       "      <td>00f1c6d9-c8ee-45e3-a06f-0882ebcb4e2f</td>\n",
       "      <td>http://musicbrainz.org/recording/00f1c6d9-c8ee...</td>\n",
       "    </tr>\n",
       "    <tr>\n",
       "      <th>1</th>\n",
       "      <td>168f7c75-84fb-4316-99d7-acabadd3b2e6</td>\n",
       "      <td>False</td>\n",
       "      <td>115.2</td>\n",
       "      <td>Acemasiran</td>\n",
       "      <td></td>\n",
       "      <td>168f7c75-84fb-4316-99d7-acabadd3b2e6</td>\n",
       "      <td>http://musicbrainz.org/recording/168f7c75-84fb...</td>\n",
       "    </tr>\n",
       "    <tr>\n",
       "      <th>2</th>\n",
       "      <td>24f549dd-3fa4-4e9b-a356-778fbbfd5cad</td>\n",
       "      <td>False</td>\n",
       "      <td>232.5</td>\n",
       "      <td>Acemasiran</td>\n",
       "      <td></td>\n",
       "      <td>24f549dd-3fa4-4e9b-a356-778fbbfd5cad</td>\n",
       "      <td>http://musicbrainz.org/recording/24f549dd-3fa4...</td>\n",
       "    </tr>\n",
       "    <tr>\n",
       "      <th>3</th>\n",
       "      <td>407bb0b4-f19b-42ab-8c0a-9f1263126951</td>\n",
       "      <td>False</td>\n",
       "      <td>233.5</td>\n",
       "      <td>Acemasiran</td>\n",
       "      <td></td>\n",
       "      <td>407bb0b4-f19b-42ab-8c0a-9f1263126951</td>\n",
       "      <td>http://musicbrainz.org/recording/407bb0b4-f19b...</td>\n",
       "    </tr>\n",
       "    <tr>\n",
       "      <th>4</th>\n",
       "      <td>443819eb-6092-420c-bd86-d946a0ad6555</td>\n",
       "      <td>False</td>\n",
       "      <td>219.6</td>\n",
       "      <td>Acemasiran</td>\n",
       "      <td></td>\n",
       "      <td>443819eb-6092-420c-bd86-d946a0ad6555</td>\n",
       "      <td>http://musicbrainz.org/recording/443819eb-6092...</td>\n",
       "    </tr>\n",
       "    <tr>\n",
       "      <th>...</th>\n",
       "      <td>...</td>\n",
       "      <td>...</td>\n",
       "      <td>...</td>\n",
       "      <td>...</td>\n",
       "      <td>...</td>\n",
       "      <td>...</td>\n",
       "      <td>...</td>\n",
       "    </tr>\n",
       "    <tr>\n",
       "      <th>995</th>\n",
       "      <td>3bf62832-d655-458c-af3e-11594f487162</td>\n",
       "      <td>False</td>\n",
       "      <td>146.0</td>\n",
       "      <td>Ussak</td>\n",
       "      <td></td>\n",
       "      <td>3bf62832-d655-458c-af3e-11594f487162</td>\n",
       "      <td>http://musicbrainz.org/recording/3bf62832-d655...</td>\n",
       "    </tr>\n",
       "    <tr>\n",
       "      <th>996</th>\n",
       "      <td>632656b7-6a0f-476a-80cd-ced396bdb57c</td>\n",
       "      <td>False</td>\n",
       "      <td>179.0</td>\n",
       "      <td>Ussak</td>\n",
       "      <td></td>\n",
       "      <td>632656b7-6a0f-476a-80cd-ced396bdb57c</td>\n",
       "      <td>http://musicbrainz.org/recording/632656b7-6a0f...</td>\n",
       "    </tr>\n",
       "    <tr>\n",
       "      <th>997</th>\n",
       "      <td>722df65d-6bb7-4280-8ae5-298c72602133</td>\n",
       "      <td>False</td>\n",
       "      <td>170.0</td>\n",
       "      <td>Ussak</td>\n",
       "      <td></td>\n",
       "      <td>722df65d-6bb7-4280-8ae5-298c72602133</td>\n",
       "      <td>http://musicbrainz.org/recording/722df65d-6bb7...</td>\n",
       "    </tr>\n",
       "    <tr>\n",
       "      <th>998</th>\n",
       "      <td>b576d7fc-3238-4b97-9e19-89acac3cda9e</td>\n",
       "      <td>False</td>\n",
       "      <td>249.0</td>\n",
       "      <td>Ussak</td>\n",
       "      <td></td>\n",
       "      <td>b576d7fc-3238-4b97-9e19-89acac3cda9e</td>\n",
       "      <td>http://musicbrainz.org/recording/b576d7fc-3238...</td>\n",
       "    </tr>\n",
       "    <tr>\n",
       "      <th>999</th>\n",
       "      <td>ebacd0b1-f1d8-4544-ada2-d2f7111360ff</td>\n",
       "      <td>False</td>\n",
       "      <td>163.0</td>\n",
       "      <td>Ussak</td>\n",
       "      <td></td>\n",
       "      <td>ebacd0b1-f1d8-4544-ada2-d2f7111360ff</td>\n",
       "      <td>http://musicbrainz.org/recording/ebacd0b1-f1d8...</td>\n",
       "    </tr>\n",
       "  </tbody>\n",
       "</table>\n",
       "<p>1000 rows × 7 columns</p>\n",
       "</div>"
      ],
      "text/plain": [
       "                                     mbid  verified  tonic       makam  \\\n",
       "0    00f1c6d9-c8ee-45e3-a06f-0882ebcb4e2f     False  256.0  Acemasiran   \n",
       "1    168f7c75-84fb-4316-99d7-acabadd3b2e6     False  115.2  Acemasiran   \n",
       "2    24f549dd-3fa4-4e9b-a356-778fbbfd5cad     False  232.5  Acemasiran   \n",
       "3    407bb0b4-f19b-42ab-8c0a-9f1263126951     False  233.5  Acemasiran   \n",
       "4    443819eb-6092-420c-bd86-d946a0ad6555     False  219.6  Acemasiran   \n",
       "..                                    ...       ...    ...         ...   \n",
       "995  3bf62832-d655-458c-af3e-11594f487162     False  146.0       Ussak   \n",
       "996  632656b7-6a0f-476a-80cd-ced396bdb57c     False  179.0       Ussak   \n",
       "997  722df65d-6bb7-4280-8ae5-298c72602133     False  170.0       Ussak   \n",
       "998  b576d7fc-3238-4b97-9e19-89acac3cda9e     False  249.0       Ussak   \n",
       "999  ebacd0b1-f1d8-4544-ada2-d2f7111360ff     False  163.0       Ussak   \n",
       "\n",
       "    observations                             dunya_uid  \\\n",
       "0                 00f1c6d9-c8ee-45e3-a06f-0882ebcb4e2f   \n",
       "1                 168f7c75-84fb-4316-99d7-acabadd3b2e6   \n",
       "2                 24f549dd-3fa4-4e9b-a356-778fbbfd5cad   \n",
       "3                 407bb0b4-f19b-42ab-8c0a-9f1263126951   \n",
       "4                 443819eb-6092-420c-bd86-d946a0ad6555   \n",
       "..           ...                                   ...   \n",
       "995               3bf62832-d655-458c-af3e-11594f487162   \n",
       "996               632656b7-6a0f-476a-80cd-ced396bdb57c   \n",
       "997               722df65d-6bb7-4280-8ae5-298c72602133   \n",
       "998               b576d7fc-3238-4b97-9e19-89acac3cda9e   \n",
       "999               ebacd0b1-f1d8-4544-ada2-d2f7111360ff   \n",
       "\n",
       "                                                mb_url  \n",
       "0    http://musicbrainz.org/recording/00f1c6d9-c8ee...  \n",
       "1    http://musicbrainz.org/recording/168f7c75-84fb...  \n",
       "2    http://musicbrainz.org/recording/24f549dd-3fa4...  \n",
       "3    http://musicbrainz.org/recording/407bb0b4-f19b...  \n",
       "4    http://musicbrainz.org/recording/443819eb-6092...  \n",
       "..                                                 ...  \n",
       "995  http://musicbrainz.org/recording/3bf62832-d655...  \n",
       "996  http://musicbrainz.org/recording/632656b7-6a0f...  \n",
       "997  http://musicbrainz.org/recording/722df65d-6bb7...  \n",
       "998  http://musicbrainz.org/recording/b576d7fc-3238...  \n",
       "999  http://musicbrainz.org/recording/ebacd0b1-f1d8...  \n",
       "\n",
       "[1000 rows x 7 columns]"
      ]
     },
     "metadata": {},
     "output_type": "display_data"
    }
   ],
   "source": [
    "annotations.loc[annotations[\"dunya_uid\"].isna(), \"dunya_uid\"] = \\\n",
    "    annotations.loc[annotations[\"dunya_uid\"].isna(), \"mbid\"]\n",
    "\n",
    "display(annotations)"
   ]
  },
  {
   "cell_type": "markdown",
   "metadata": {},
   "source": [
    "### Validate annotations"
   ]
  },
  {
   "cell_type": "code",
   "execution_count": 6,
   "metadata": {},
   "outputs": [],
   "source": [
    "assert len(annotations.mbid) == num_recordings, f\"There are less than {num_recordings} recordings\"\n",
    "assert len(annotations.mbid.unique()) == num_recordings, \"MusicBrainz ID (MBIDs) are not unique\"\n",
    "\n",
    "makam_counts = annotations.makam.value_counts()\n",
    "assert len(makam_counts) == num_makams, \"There are less than {num_makams} makams\"\n",
    "np.testing.assert_array_equal(makam_counts.unique(), [50])\n"
   ]
  },
  {
   "cell_type": "markdown",
   "metadata": {},
   "source": [
    "### Save to staging"
   ]
  },
  {
   "cell_type": "code",
   "execution_count": 7,
   "metadata": {},
   "outputs": [
    {
     "name": "stderr",
     "output_type": "stream",
     "text": [
      "INFO:root:Saved parsed annotations to .././data/staging/annotations.json\n"
     ]
    }
   ],
   "source": [
    "Path(staging_dir).mkdir(parents=True, exist_ok=True)\n",
    "annotations_tmp_file = os.path.join(staging_dir, \"annotations.json\")\n",
    "annotations.to_json(annotations_tmp_file, orient=\"records\")\n",
    "logging.info(f\"Saved parsed annotations to {annotations_tmp_file}\")"
   ]
  },
  {
   "cell_type": "markdown",
   "metadata": {},
   "source": [
    "## Log annotations"
   ]
  },
  {
   "cell_type": "code",
   "execution_count": 8,
   "metadata": {},
   "outputs": [
    {
     "name": "stdout",
     "output_type": "stream",
     "text": [
      "INFO: 'data_processing' does not exist. Creating a new experiment\n"
     ]
    }
   ],
   "source": [
    "# get saved run from the json, if exists\n",
    "\n",
    "\n",
    "# start run\n",
    "mlflow.set_experiment('data_processing')\n",
    "with mlflow.start_run(run_name=\"fetch_annotations\") as mlflow_run:\n",
    "    run_id = mlflow_run.info.run_id\n",
    "    \n",
    "    git_repo_url = !git config --get remote.origin.url\n",
    "    git_commit = !git rev-parse HEAD\n",
    "    notebook_name = \"./notebooks/00-download_dataset_annotations.ipynb\"\n",
    "    mlflow.set_tags({\n",
    "        \"mlflow.source.type\": \"NOTEBOOK\",\n",
    "        \"mlflow.source.name\": notebook_name,\n",
    "        \"mlflow.source.git.commit\": git_commit[0],\n",
    "        \"mlflow.source.git.repoURL\": git_repo_url[0],\n",
    "        **dict(config[\"dataset\"])\n",
    "    })\n",
    "    mlflow.log_artifact(annotations_tmp_file)\n",
    "    \n",
    "# Save run id to the json file if it did not exist\n"
   ]
  },
  {
   "cell_type": "markdown",
   "metadata": {},
   "source": [
    "### Remove tmp annotation file"
   ]
  },
  {
   "cell_type": "code",
   "execution_count": 9,
   "metadata": {},
   "outputs": [],
   "source": [
    "!rm -rf {annotations_tmp_file}"
   ]
  }
 ],
 "metadata": {
  "kernelspec": {
   "display_name": "Python 3",
   "language": "python",
   "name": "python3"
  },
  "language_info": {
   "codemirror_mode": {
    "name": "ipython",
    "version": 3
   },
   "file_extension": ".py",
   "mimetype": "text/x-python",
   "name": "python",
   "nbconvert_exporter": "python",
   "pygments_lexer": "ipython3",
   "version": "3.7.6"
  }
 },
 "nbformat": 4,
 "nbformat_minor": 4
}
