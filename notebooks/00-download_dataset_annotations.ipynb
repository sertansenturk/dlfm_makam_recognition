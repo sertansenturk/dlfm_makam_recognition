{
 "cells": [
  {
   "cell_type": "markdown",
   "metadata": {},
   "source": [
    "# 00-download_dataset_annotations\n",
    "\n",
    "This notebook downloads `annotation.json` from the `dlfm2016-fix1` release of [otmm_makam_recognition_dataset](https://github.com/sertansenturk/otmm_makam_recognition_dataset/blob/dlfm2016-fix1/annotations.json). Then, it creates an mlflow run under an experiment named `data_processing`, parses the annotations and saves it as an artifact with relevant information."
   ]
  },
  {
   "cell_type": "code",
   "execution_count": 1,
   "metadata": {},
   "outputs": [],
   "source": [
    "import configparser\n",
    "import importlib\n",
    "import json\n",
    "import logging\n",
    "import os\n",
    "import tempfile\n",
    "\n",
    "import mlflow\n",
    "import numpy as np\n",
    "import pandas as pd\n"
   ]
  },
  {
   "cell_type": "markdown",
   "metadata": {},
   "source": [
    "# Stop if annotations were fetched in the past\n"
   ]
  },
  {
   "cell_type": "code",
   "execution_count": 2,
   "metadata": {},
   "outputs": [],
   "source": [
    "experiment_name = \"data_processing\"\n",
    "run_name = \"download_annotations\"\n",
    "\n",
    "experiment = mlflow.get_experiment_by_name(experiment_name)\n",
    "if experiment is not None:\n",
    "    annotation_runs = mlflow.search_runs(\n",
    "        experiment_ids=experiment.experiment_id,\n",
    "        filter_string=f\"tags.mlflow.runName = '{run_name}'\")\n",
    "\n",
    "    assert len(annotation_runs) == 0, (\n",
    "        f\"There is already a run for {run_name}:{', '.join(annotation_runs.run_id)}. \"\n",
    "        \"Overwriting is not permitted. Please inspect the run in the mlflow UI \"\n",
    "        \"and manually make the necessary corrections.\")\n"
   ]
  },
  {
   "cell_type": "markdown",
   "metadata": {},
   "source": [
    "## Init logger"
   ]
  },
  {
   "cell_type": "code",
   "execution_count": 3,
   "metadata": {},
   "outputs": [
    {
     "name": "stderr",
     "output_type": "stream",
     "text": [
      "INFO:__main__:Logger initiated...\n"
     ]
    }
   ],
   "source": [
    "importlib.reload(logging)  # fix jupyter logging: https://stackoverflow.com/a/21475297\n",
    "logging.basicConfig(level=logging.INFO)\n",
    "\n",
    "# create logger\n",
    "logger = logging.getLogger(__name__)\n",
    "logger.setLevel(logging.INFO)\n",
    "\n",
    "logger.info(\"Logger initiated...\")"
   ]
  },
  {
   "cell_type": "markdown",
   "metadata": {},
   "source": [
    "## Read relevant parts of the configuration"
   ]
  },
  {
   "cell_type": "code",
   "execution_count": 4,
   "metadata": {},
   "outputs": [
    {
     "name": "stderr",
     "output_type": "stream",
     "text": [
      "INFO:__main__:Reading configuration from ['../config/config.ini']\n",
      "INFO:__main__:annotations.json URL: https://raw.githubusercontent.com/sertansenturk/otmm_makam_recognition_dataset/dlfm2016-fix1/annotations.json\n"
     ]
    }
   ],
   "source": [
    "config_dir = \"../config\"\n",
    "\n",
    "config = configparser.ConfigParser()\n",
    "config_file = config.read(os.path.join(config_dir, 'config.ini'))\n",
    "logger.info(f\"Reading configuration from {config_file}\")\n",
    "\n",
    "annotation_github_file = config[\"dataset\"][\"annotation_file\"]\n",
    "num_recordings = config.getint(\"dataset\", \"num_recordings\")\n",
    "num_recordings_per_makam = config.getint(\"dataset\", \"num_recordings_per_makam\")\n",
    "num_makams = num_recordings / num_recordings_per_makam  # 20\n",
    "logger.info(f\"annotations.json URL: {annotation_github_file}\")"
   ]
  },
  {
   "cell_type": "markdown",
   "metadata": {},
   "source": [
    "## Download annotations from `otmm_makam_recognition_dataset`\n",
    "\n",
    "We use the `otmm_makam_recognition_dataset`, which was compiled for the following paper:\n",
    "\n",
    "    Karakurt, A., Şentürk S., & Serra X. (2016). MORTY: A Toolbox for Mode Recognition and Tonic Identification. 3rd International Digital Libraries for Musicology Workshop. New York, USA\n",
    "    \n",
    "We read the annotations from `dlfm2016-fix1`, the latest release of the dataset as of April 2020. "
   ]
  },
  {
   "cell_type": "markdown",
   "metadata": {},
   "source": [
    "### Read from github"
   ]
  },
  {
   "cell_type": "code",
   "execution_count": 5,
   "metadata": {},
   "outputs": [
    {
     "name": "stderr",
     "output_type": "stream",
     "text": [
      "INFO:__main__:Reading annotations from https://raw.githubusercontent.com/sertansenturk/otmm_makam_recognition_dataset/dlfm2016-fix1/annotations.json\n"
     ]
    }
   ],
   "source": [
    "logger.info(f\"Reading annotations from {annotation_github_file}\")\n",
    "annotations = pd.read_json(annotation_github_file)\n",
    "annotations[\"mb_url\"] = annotations[\"mbid\"]\n",
    "annotations[\"mbid\"] = annotations[\"mbid\"].str.split(pat = \"/\").apply(lambda a: a[-1])\n"
   ]
  },
  {
   "cell_type": "markdown",
   "metadata": {},
   "source": [
    "### Populate `dunya_uid`s\n",
    "\n",
    "The MBIDs in `CompMusic makam music corpus` may be outdated, i.e. they may not be pointing to the master MBID. `otmm_makam_recognition_dataset` patches such recordings with an extra `dunya_uid` key. \n",
    "\n",
    "Below, we merge the `mbid` and `dunya_uid`'s to ensure we send the correct requests to Dunya API."
   ]
  },
  {
   "cell_type": "code",
   "execution_count": 6,
   "metadata": {},
   "outputs": [
    {
     "data": {
      "text/html": [
       "<div>\n",
       "<style scoped>\n",
       "    .dataframe tbody tr th:only-of-type {\n",
       "        vertical-align: middle;\n",
       "    }\n",
       "\n",
       "    .dataframe tbody tr th {\n",
       "        vertical-align: top;\n",
       "    }\n",
       "\n",
       "    .dataframe thead th {\n",
       "        text-align: right;\n",
       "    }\n",
       "</style>\n",
       "<table border=\"1\" class=\"dataframe\">\n",
       "  <thead>\n",
       "    <tr style=\"text-align: right;\">\n",
       "      <th></th>\n",
       "      <th>mbid</th>\n",
       "      <th>verified</th>\n",
       "      <th>tonic</th>\n",
       "      <th>makam</th>\n",
       "      <th>observations</th>\n",
       "      <th>dunya_uid</th>\n",
       "      <th>mb_url</th>\n",
       "    </tr>\n",
       "  </thead>\n",
       "  <tbody>\n",
       "    <tr>\n",
       "      <th>0</th>\n",
       "      <td>00f1c6d9-c8ee-45e3-a06f-0882ebcb4e2f</td>\n",
       "      <td>False</td>\n",
       "      <td>256.0</td>\n",
       "      <td>Acemasiran</td>\n",
       "      <td></td>\n",
       "      <td>00f1c6d9-c8ee-45e3-a06f-0882ebcb4e2f</td>\n",
       "      <td>http://musicbrainz.org/recording/00f1c6d9-c8ee...</td>\n",
       "    </tr>\n",
       "    <tr>\n",
       "      <th>1</th>\n",
       "      <td>168f7c75-84fb-4316-99d7-acabadd3b2e6</td>\n",
       "      <td>False</td>\n",
       "      <td>115.2</td>\n",
       "      <td>Acemasiran</td>\n",
       "      <td></td>\n",
       "      <td>168f7c75-84fb-4316-99d7-acabadd3b2e6</td>\n",
       "      <td>http://musicbrainz.org/recording/168f7c75-84fb...</td>\n",
       "    </tr>\n",
       "    <tr>\n",
       "      <th>2</th>\n",
       "      <td>24f549dd-3fa4-4e9b-a356-778fbbfd5cad</td>\n",
       "      <td>False</td>\n",
       "      <td>232.5</td>\n",
       "      <td>Acemasiran</td>\n",
       "      <td></td>\n",
       "      <td>24f549dd-3fa4-4e9b-a356-778fbbfd5cad</td>\n",
       "      <td>http://musicbrainz.org/recording/24f549dd-3fa4...</td>\n",
       "    </tr>\n",
       "    <tr>\n",
       "      <th>3</th>\n",
       "      <td>407bb0b4-f19b-42ab-8c0a-9f1263126951</td>\n",
       "      <td>False</td>\n",
       "      <td>233.5</td>\n",
       "      <td>Acemasiran</td>\n",
       "      <td></td>\n",
       "      <td>407bb0b4-f19b-42ab-8c0a-9f1263126951</td>\n",
       "      <td>http://musicbrainz.org/recording/407bb0b4-f19b...</td>\n",
       "    </tr>\n",
       "    <tr>\n",
       "      <th>4</th>\n",
       "      <td>443819eb-6092-420c-bd86-d946a0ad6555</td>\n",
       "      <td>False</td>\n",
       "      <td>219.6</td>\n",
       "      <td>Acemasiran</td>\n",
       "      <td></td>\n",
       "      <td>443819eb-6092-420c-bd86-d946a0ad6555</td>\n",
       "      <td>http://musicbrainz.org/recording/443819eb-6092...</td>\n",
       "    </tr>\n",
       "  </tbody>\n",
       "</table>\n",
       "</div>"
      ],
      "text/plain": [
       "                                   mbid  verified  tonic       makam  \\\n",
       "0  00f1c6d9-c8ee-45e3-a06f-0882ebcb4e2f     False  256.0  Acemasiran   \n",
       "1  168f7c75-84fb-4316-99d7-acabadd3b2e6     False  115.2  Acemasiran   \n",
       "2  24f549dd-3fa4-4e9b-a356-778fbbfd5cad     False  232.5  Acemasiran   \n",
       "3  407bb0b4-f19b-42ab-8c0a-9f1263126951     False  233.5  Acemasiran   \n",
       "4  443819eb-6092-420c-bd86-d946a0ad6555     False  219.6  Acemasiran   \n",
       "\n",
       "  observations                             dunya_uid  \\\n",
       "0               00f1c6d9-c8ee-45e3-a06f-0882ebcb4e2f   \n",
       "1               168f7c75-84fb-4316-99d7-acabadd3b2e6   \n",
       "2               24f549dd-3fa4-4e9b-a356-778fbbfd5cad   \n",
       "3               407bb0b4-f19b-42ab-8c0a-9f1263126951   \n",
       "4               443819eb-6092-420c-bd86-d946a0ad6555   \n",
       "\n",
       "                                              mb_url  \n",
       "0  http://musicbrainz.org/recording/00f1c6d9-c8ee...  \n",
       "1  http://musicbrainz.org/recording/168f7c75-84fb...  \n",
       "2  http://musicbrainz.org/recording/24f549dd-3fa4...  \n",
       "3  http://musicbrainz.org/recording/407bb0b4-f19b...  \n",
       "4  http://musicbrainz.org/recording/443819eb-6092...  "
      ]
     },
     "metadata": {},
     "output_type": "display_data"
    }
   ],
   "source": [
    "annotations.loc[annotations[\"dunya_uid\"].isna(), \"dunya_uid\"] = \\\n",
    "    annotations.loc[annotations[\"dunya_uid\"].isna(), \"mbid\"]\n",
    "\n",
    "display(annotations.head())"
   ]
  },
  {
   "cell_type": "markdown",
   "metadata": {},
   "source": [
    "### Validate annotations"
   ]
  },
  {
   "cell_type": "code",
   "execution_count": 7,
   "metadata": {},
   "outputs": [],
   "source": [
    "assert len(annotations.mbid) == num_recordings, f\"There are less than {num_recordings} recordings\"\n",
    "assert len(annotations.mbid.unique()) == num_recordings, \"MusicBrainz ID (MBIDs) are not unique\"\n",
    "\n",
    "makam_counts = annotations.makam.value_counts()\n",
    "assert len(makam_counts) == num_makams, \"There are less than {num_makams} makams\"\n",
    "np.testing.assert_array_equal(makam_counts.unique(), [50])\n"
   ]
  },
  {
   "cell_type": "markdown",
   "metadata": {},
   "source": [
    "## Log annotations"
   ]
  },
  {
   "cell_type": "code",
   "execution_count": 8,
   "metadata": {},
   "outputs": [],
   "source": [
    "# start run\n",
    "mlflow.set_experiment(experiment_name)\n",
    "with mlflow.start_run(run_name=run_name) as mlflow_run:\n",
    "    run_id = mlflow_run.info.run_id\n",
    "    \n",
    "    git_repo_url = !git config --get remote.origin.url\n",
    "    git_commit = !git rev-parse HEAD\n",
    "    notebook_name = \"./notebooks/00-download_dataset_annotations.ipynb\"\n",
    "    dataset_tags = {\"dataset_\" + key: val for key, val in dict(config[\"dataset\"]).items()}\n",
    "    mlflow.set_tags({\n",
    "        \"mlflow.source.type\": \"NOTEBOOK\",\n",
    "        \"mlflow.source.name\": notebook_name,\n",
    "        \"mlflow.source.git.commit\": git_commit[0],\n",
    "        \"mlflow.source.git.repoURL\": git_repo_url[0],\n",
    "        **dataset_tags\n",
    "    })\n",
    "    \n",
    "    with tempfile.TemporaryDirectory() as tmp_dir:\n",
    "        annotations_tmp_file = os.path.join(tmp_dir, \"annotations.json\")\n",
    "        annotations.to_json(annotations_tmp_file, orient=\"records\")\n",
    "        \n",
    "        mlflow.log_artifacts(tmp_dir)\n"
   ]
  }
 ],
 "metadata": {
  "kernelspec": {
   "display_name": "Python 3",
   "language": "python",
   "name": "python3"
  },
  "language_info": {
   "codemirror_mode": {
    "name": "ipython",
    "version": 3
   },
   "file_extension": ".py",
   "mimetype": "text/x-python",
   "name": "python",
   "nbconvert_exporter": "python",
   "pygments_lexer": "ipython3",
   "version": "3.7.6"
  }
 },
 "nbformat": 4,
 "nbformat_minor": 4
}
